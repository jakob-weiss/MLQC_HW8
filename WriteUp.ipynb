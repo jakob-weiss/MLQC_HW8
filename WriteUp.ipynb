{
 "cells": [
  {
   "cell_type": "markdown",
   "id": "historical-biotechnology",
   "metadata": {},
   "source": [
    "We elected not to use datasets A or F to decrease the amount of noise we were dealing with right off the bat. \n",
    "\n",
    "Used CanonicalAtomFeaturizer() and CanonicalBondFeaturizer() \n",
    "CanonicalAtomFeaturizer():\n",
    "1. One hot encoding of the atom type. The supported atom types include C, N, O, S, F, Si, P, Cl, Br, Mg, Na, Ca, Fe, As, Al, I, B, V, K, Tl, Yb, Sb, Sn, Ag, Pd, Co, Se, Ti, Zn, H, Li, Ge, Cu, Au, Ni, Cd, In, Mn, Zr, Cr, Pt, Hg, Pb.\n",
    "2. One hot encoding of the atom degree. The supported possibilities include 0 - 10.\n",
    "3. One hot encoding of the number of implicit Hs on the atom. The supported possibilities include 0 - 6.\n",
    "4. Formal charge of the atom.\n",
    "5. Number of radical electrons of the atom.\n",
    "6. One hot encoding of the atom hybridization. The supported possibilities include SP, SP2, SP3, SP3D, SP3D2.\n",
    "7. Whether the atom is aromatic.\n",
    "8. One hot encoding of the number of total Hs on the atom. \n",
    "\n",
    "CanonicalBondFeaturizer():\n",
    "1. One hot encoding of the bond type. The supported bond types include\n",
    "2. SINGLE, DOUBLE, TRIPLE, AROMATIC.\n",
    "3. Whether the bond is conjugated.\n",
    "4. Whether the bond is in a ring of any size.\n",
    "5. One hot encoding of the stereo configuration of a bond. The supported bond stereo configurations include STEREONONE, STEREOANY, STEREOZ, STEREOE, STEREOCIS, STEREOTRANS.\n",
    "\n",
    "Used MPNNPredictor for our model with node_out_feats=16 and edge_hidden_feats=16, with only one hidden layer. \n",
    "\n",
    "We started by training with Adam as the optimizer, but then discovered that AdamW was working better with a learning rate of 0.001\n",
    "\n",
    "In the process of attempting to improve the training, we adjusted the match size, the number of hidden layers, the number of node and edge features being used, and added additional features, including additional Modred features. \n",
    "\n",
    "Lastly we were able to adjust the model to predict the atomization energy which ultimately improved the model to its current state.\n",
    "\n"
   ]
  }
 ],
 "metadata": {
  "kernelspec": {
   "display_name": "Python 3",
   "language": "python",
   "name": "python3"
  },
  "language_info": {
   "codemirror_mode": {
    "name": "ipython",
    "version": 3
   },
   "file_extension": ".py",
   "mimetype": "text/x-python",
   "name": "python",
   "nbconvert_exporter": "python",
   "pygments_lexer": "ipython3",
   "version": "3.8.6"
  }
 },
 "nbformat": 4,
 "nbformat_minor": 5
}
