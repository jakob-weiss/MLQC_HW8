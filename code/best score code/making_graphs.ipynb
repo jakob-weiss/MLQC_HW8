{
 "cells": [
  {
   "cell_type": "code",
   "execution_count": 1,
   "id": "colonial-melbourne",
   "metadata": {},
   "outputs": [
    {
     "name": "stderr",
     "output_type": "stream",
     "text": [
      "Using backend: pytorch\n"
     ]
    }
   ],
   "source": [
    "from rdkit import RDLogger\n",
    "import pandas as pd\n",
    "import numpy as np\n",
    "from dgllife.utils import smiles_to_bigraph\n",
    "from dgllife.utils import CanonicalAtomFeaturizer, CanonicalBondFeaturizer\n",
    "from dgllife.utils import ConcatFeaturizer\n",
    "from dgllife.utils import atom_degree, atom_is_aromatic, atomic_number, atom_is_in_ring, BaseAtomFeaturizer\n",
    "from dgllife.utils import bond_type_one_hot, bond_is_conjugated, bond_is_in_ring, BaseBondFeaturizer\n",
    "import torch\n",
    "from tqdm.notebook import tqdm\n",
    "from dgl.data.utils import load_graphs\n",
    "from dgl.data.utils import save_graphs\n",
    "from dgl.dataloading.pytorch import GraphDataLoader\n",
    "from torch.utils.data import DataLoader\n",
    "from rdkit import Chem\n",
    "from torch.utils.data import Dataset\n",
    "import torch.nn as nn\n",
    "from dgl.nn.pytorch import Set2Set\n",
    "#from dgl.nn.pytorch import MPNNGNN\n",
    "#from dgllife.model.model_zoo.mpnn_predictor import MPNNPredictor\n",
    "from dgllife.model.gnn.mpnn import MPNNGNN\n",
    "from dgllife.model.readout.mlp_readout import MLPNodeReadout\n",
    "import wandb"
   ]
  },
  {
   "cell_type": "code",
   "execution_count": 2,
   "id": "western-contamination",
   "metadata": {},
   "outputs": [],
   "source": [
    "elements = pd.read_csv('indiv_energies.csv')\n",
    "elements = dict(zip(elements['symbol'], elements['E']))\n",
    "\n",
    "def get_E_pred(smiles):\n",
    "    m = Chem.MolFromSmiles(smiles)\n",
    "    m = Chem.AddHs(m)\n",
    "    pred = 0\n",
    "    for atom in m.GetAtoms():\n",
    "        pred += elements[atom.GetSymbol()]\n",
    "    return pred"
   ]
  },
  {
   "cell_type": "code",
   "execution_count": 3,
   "id": "seeing-bermuda",
   "metadata": {},
   "outputs": [],
   "source": [
    "RDLogger.DisableLog('rdApp.*') # disable annoying warning messages during featurization -- we'll just remove incompletely featurized molecules later\n",
    "\n",
    "dat = []\n",
    "\n",
    "for dataset in ['B', 'C', 'D', 'G', 'H', 'I']:\n",
    "    dat.append(pd.read_csv('../data/dataset-%s-E0.csv' % dataset))\n",
    "    \n",
    "dat = pd.concat(dat, axis=0)\n",
    "dat = dat.dropna()\n",
    "\n",
    "smiles = dat['SMILES']\n",
    "Y = dat['E_0']\n",
    "E_diff = Y - smiles.apply(get_E_pred)\n",
    "\n",
    "del dat"
   ]
  },
  {
   "cell_type": "code",
   "execution_count": 4,
   "id": "friendly-cheese",
   "metadata": {},
   "outputs": [],
   "source": [
    "def featurize_atoms(mol):\n",
    "    featurizer = CanonicalAtomFeaturizer()\n",
    "    return featurizer(mol)"
   ]
  },
  {
   "cell_type": "code",
   "execution_count": 5,
   "id": "square-activity",
   "metadata": {},
   "outputs": [],
   "source": [
    "def featurize_bonds(mol):\n",
    "    featurizer = CanonicalBondFeaturizer()\n",
    "    return featurizer(mol)"
   ]
  },
  {
   "cell_type": "code",
   "execution_count": 9,
   "id": "retained-election",
   "metadata": {},
   "outputs": [],
   "source": [
    "# graphs = []\n",
    "\n",
    "# for m in tqdm(smiles):\n",
    "#     g = smiles_to_bigraph(m, node_featurizer=featurize_atoms, edge_featurizer=featurize_bonds, explicit_hydrogens=True)\n",
    "#     graphs.append(g)\n",
    "\n",
    "# save_graphs('canonical_feat_graphs', graphs)"
   ]
  },
  {
   "cell_type": "code",
   "execution_count": null,
   "id": "reduced-spray",
   "metadata": {},
   "outputs": [],
   "source": []
  }
 ],
 "metadata": {
  "kernelspec": {
   "display_name": "Python 3",
   "language": "python",
   "name": "python3"
  },
  "language_info": {
   "codemirror_mode": {
    "name": "ipython",
    "version": 3
   },
   "file_extension": ".py",
   "mimetype": "text/x-python",
   "name": "python",
   "nbconvert_exporter": "python",
   "pygments_lexer": "ipython3",
   "version": "3.8.6"
  }
 },
 "nbformat": 4,
 "nbformat_minor": 5
}
