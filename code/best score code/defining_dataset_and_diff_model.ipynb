{
 "cells": [
  {
   "cell_type": "code",
   "execution_count": 2,
   "id": "welsh-celebration",
   "metadata": {},
   "outputs": [
    {
     "name": "stderr",
     "output_type": "stream",
     "text": [
      "Using backend: pytorch\n"
     ]
    }
   ],
   "source": [
    "from rdkit import RDLogger\n",
    "import pandas as pd\n",
    "import numpy as np\n",
    "from dgllife.utils import smiles_to_bigraph\n",
    "from dgllife.utils import CanonicalAtomFeaturizer, CanonicalBondFeaturizer\n",
    "from dgllife.utils import ConcatFeaturizer\n",
    "from dgllife.utils import atom_degree, atom_is_aromatic, atomic_number, atom_is_in_ring, BaseAtomFeaturizer\n",
    "from dgllife.utils import bond_type_one_hot, bond_is_conjugated, bond_is_in_ring, BaseBondFeaturizer\n",
    "import torch\n",
    "from tqdm.notebook import tqdm\n",
    "from dgl.data.utils import load_graphs\n",
    "from dgl.data.utils import save_graphs\n",
    "from dgl.dataloading.pytorch import GraphDataLoader\n",
    "from torch.utils.data import DataLoader\n",
    "from rdkit import Chem\n",
    "from torch.utils.data import Dataset\n",
    "import torch.nn as nn\n",
    "from dgl.nn.pytorch import Set2Set\n",
    "#from dgl.nn.pytorch import MPNNGNN\n",
    "#from dgllife.model.model_zoo.mpnn_predictor import MPNNPredictor\n",
    "from dgllife.model.gnn.mpnn import MPNNGNN\n",
    "from dgllife.model.readout.mlp_readout import MLPNodeReadout\n",
    "import wandb"
   ]
  },
  {
   "cell_type": "code",
   "execution_count": 7,
   "id": "timely-sword",
   "metadata": {},
   "outputs": [],
   "source": [
    "elements = pd.read_csv('indiv_energies.csv')\n",
    "elements = dict(zip(elements['symbol'], elements['E']))\n",
    "\n",
    "def get_E_pred(smiles):\n",
    "    m = Chem.MolFromSmiles(smiles)\n",
    "    m = Chem.AddHs(m)\n",
    "    pred = 0\n",
    "    for atom in m.GetAtoms():\n",
    "        pred += elements[atom.GetSymbol()]\n",
    "    return pred"
   ]
  },
  {
   "cell_type": "code",
   "execution_count": 8,
   "id": "recent-customer",
   "metadata": {},
   "outputs": [],
   "source": [
    "RDLogger.DisableLog('rdApp.*') # disable annoying warning messages during featurization -- we'll just remove incompletely featurized molecules later\n",
    "\n",
    "dat = []\n",
    "\n",
    "for dataset in ['B', 'C', 'D', 'G', 'H', 'I']:\n",
    "    dat.append(pd.read_csv('../data/dataset-%s-E0.csv' % dataset))\n",
    "    \n",
    "dat = pd.concat(dat, axis=0)\n",
    "dat = dat.dropna()\n",
    "\n",
    "smiles = dat['SMILES']\n",
    "Y = dat['E_0']\n",
    "E_diff = Y - smiles.apply(get_E_pred)\n",
    "\n",
    "del dat"
   ]
  },
  {
   "cell_type": "code",
   "execution_count": 3,
   "id": "purple-retirement",
   "metadata": {},
   "outputs": [],
   "source": [
    "class Dataset(Dataset):\n",
    "    def __init__(self):\n",
    "        self.x = load_graphs('canonical_feat_graphs')[0]\n",
    "        self.y = torch.tensor(list(E_diff), dtype=torch.float64)\n",
    "    \n",
    "    def __len__(self):\n",
    "        return len(self.x)\n",
    "    \n",
    "    def __getitem__(self, idx):\n",
    "        return self.x[idx], self.y[idx]"
   ]
  },
  {
   "cell_type": "code",
   "execution_count": 9,
   "id": "hidden-congo",
   "metadata": {},
   "outputs": [],
   "source": [
    "data = Dataset()"
   ]
  },
  {
   "cell_type": "code",
   "execution_count": 10,
   "id": "dressed-dairy",
   "metadata": {},
   "outputs": [],
   "source": [
    "gdl = GraphDataLoader(data, batch_size=1536, collate_fn=None)"
   ]
  },
  {
   "cell_type": "code",
   "execution_count": 11,
   "id": "finished-professor",
   "metadata": {},
   "outputs": [],
   "source": [
    "class OurMPNNPredictor(nn.Module):\n",
    "    \"\"\"MPNN for regression and classification on graphs. Modified by HB, MG, JW, JW.\n",
    "\n",
    "    MPNN is introduced in `Neural Message Passing for Quantum Chemistry\n",
    "    <https://arxiv.org/abs/1704.01212>`__.\n",
    "\n",
    "    Parameters\n",
    "    ----------\n",
    "    node_in_feats : int\n",
    "        Size for the input node features.\n",
    "    edge_in_feats : int\n",
    "        Size for the input edge features.\n",
    "    node_out_feats : int\n",
    "        Size for the output node representations. Default to 8. -> 16\n",
    "    edge_hidden_feats : int\n",
    "        Size for the hidden edge representations. Default to 8. -> 16\n",
    "    n_tasks : int\n",
    "        Number of tasks, which is also the output size. Default to 1.\n",
    "    num_step_message_passing : int\n",
    "        Number of message passing steps. Default to 2.\n",
    "    \"\"\"\n",
    "    def __init__(self,\n",
    "                 node_in_feats,\n",
    "                 edge_in_feats,\n",
    "                 node_out_feats=16,\n",
    "                 edge_hidden_feats=16,\n",
    "                 n_tasks=1,\n",
    "                 num_step_message_passing=2):\n",
    "        super(OurMPNNPredictor, self).__init__()\n",
    "\n",
    "        self.gnn = MPNNGNN(node_in_feats=node_in_feats,\n",
    "                           node_out_feats=node_out_feats,\n",
    "                           edge_in_feats=edge_in_feats,\n",
    "                           edge_hidden_feats=edge_hidden_feats,\n",
    "                           num_step_message_passing=num_step_message_passing)\n",
    "        self.readout = MLPNodeReadout(node_feats=node_out_feats,\n",
    "                                                         hidden_feats=2 * node_out_feats,\n",
    "                                                         graph_feats=2 * node_out_feats)\n",
    "        self.predict = nn.Sequential(\n",
    "            nn.Linear(2 * node_out_feats, node_out_feats),\n",
    "            nn.ReLU(),\n",
    "            nn.Linear(node_out_feats, n_tasks)\n",
    "        )\n",
    "\n",
    "    def forward(self, g, node_feats, edge_feats):\n",
    "        \"\"\"Graph-level regression/soft classification.\n",
    "\n",
    "        Parameters\n",
    "        ----------\n",
    "        g : DGLGraph\n",
    "            DGLGraph for a batch of graphs.\n",
    "        node_feats : float32 tensor of shape (V, node_in_feats)\n",
    "            Input node features.\n",
    "        edge_feats : float32 tensor of shape (E, edge_in_feats)\n",
    "            Input edge features.\n",
    "\n",
    "        Returns\n",
    "        -------\n",
    "        float32 tensor of shape (G, n_tasks)\n",
    "            Prediction for the graphs in the batch. G for the number of graphs.\n",
    "        \"\"\"\n",
    "        node_feats = self.gnn(g, node_feats, edge_feats)\n",
    "        graph_feats = self.readout(g, node_feats)\n",
    "        return self.predict(graph_feats)\n"
   ]
  },
  {
   "cell_type": "code",
   "execution_count": 12,
   "id": "suburban-charger",
   "metadata": {},
   "outputs": [
    {
     "data": {
      "text/plain": [
       "OurMPNNPredictor(\n",
       "  (gnn): MPNNGNN(\n",
       "    (project_node_feats): Sequential(\n",
       "      (0): Linear(in_features=74, out_features=16, bias=True)\n",
       "      (1): ReLU()\n",
       "    )\n",
       "    (gnn_layer): NNConv(\n",
       "      (edge_func): Sequential(\n",
       "        (0): Linear(in_features=12, out_features=16, bias=True)\n",
       "        (1): ReLU()\n",
       "        (2): Linear(in_features=16, out_features=256, bias=True)\n",
       "      )\n",
       "    )\n",
       "    (gru): GRU(16, 16)\n",
       "  )\n",
       "  (readout): MLPNodeReadout(\n",
       "    (in_project): Linear(in_features=16, out_features=32, bias=True)\n",
       "    (out_project): Linear(in_features=32, out_features=32, bias=True)\n",
       "  )\n",
       "  (predict): Sequential(\n",
       "    (0): Linear(in_features=32, out_features=16, bias=True)\n",
       "    (1): ReLU()\n",
       "    (2): Linear(in_features=16, out_features=1, bias=True)\n",
       "  )\n",
       ")"
      ]
     },
     "execution_count": 12,
     "metadata": {},
     "output_type": "execute_result"
    }
   ],
   "source": [
    "model = OurMPNNPredictor(node_in_feats=74, edge_in_feats=12)\n",
    "model.load_state_dict(torch.load('down-best_diff2.params'))\n",
    "model.train()"
   ]
  },
  {
   "cell_type": "code",
   "execution_count": 13,
   "id": "verbal-property",
   "metadata": {},
   "outputs": [],
   "source": [
    "# best for diff prediction so far: 500 AdamW with 0.004, then 200 AdamW with 0.001, then 200 AdamW with 0.0001\n",
    "\n",
    "def train(epochs):\n",
    "    run = wandb.init(project='mlchem_hw8', entity='weiss')\n",
    "    \n",
    "    optimizer = torch.optim.AdamW(model.parameters(),lr=0.0001) \n",
    "    \n",
    "    best_score = None\n",
    "    \n",
    "    for epoch in tqdm(range(epochs)):\n",
    "        \n",
    "        model.train()\n",
    "        \n",
    "        running_loss = 0.\n",
    "                \n",
    "        for batch_x, batch_y in gdl:\n",
    "            optimizer.zero_grad()\n",
    "            atoms = batch_x.ndata['h']\n",
    "            edges = batch_x.edata['e']\n",
    "            y_pred = model.forward(batch_x, atoms, edges)\n",
    "            sse = ((torch.squeeze(y_pred) - batch_y)**2).sum()\n",
    "            running_loss = sse.item()\n",
    "            sse.backward()\n",
    "            optimizer.step()\n",
    "            \n",
    "        running_loss /= len(data)\n",
    "        \n",
    "        model.eval()\n",
    "        \n",
    "        if (best_score is None or running_loss < best_score):\n",
    "            best_score = running_loss\n",
    "            torch.save(model.state_dict(), 'down-best_inprogress.params')\n",
    "            \n",
    "        wandb.log({'Train loss': running_loss,\n",
    "                   'Best loss': best_score})\n",
    "    \n",
    "    run.finish()"
   ]
  },
  {
   "cell_type": "code",
   "execution_count": null,
   "id": "experienced-twist",
   "metadata": {},
   "outputs": [],
   "source": [
    "train(200) # this is going to take a while"
   ]
  },
  {
   "cell_type": "code",
   "execution_count": null,
   "id": "raising-atlantic",
   "metadata": {},
   "outputs": [],
   "source": [
    "best_model = OurMPNNPredictor(node_in_feats=74, edge_in_feats=12)\n",
    "best_model.load_state_dict(torch.load('down-best_inprogress.params'))\n",
    "best_model.eval()\n",
    "\n",
    "def model_from_smiles(smiles):\n",
    "    global best_model\n",
    "    g = smiles_to_bigraph(smiles, node_featurizer=featurize_atoms, edge_featurizer=featurize_bonds, explicit_hydrogens=True)\n",
    "    return best_model(g, g.ndata['h'], g.edata['e']).detach().numpy() + np.array(get_E_pred(smiles))"
   ]
  },
  {
   "cell_type": "code",
   "execution_count": null,
   "id": "permanent-pollution",
   "metadata": {},
   "outputs": [],
   "source": [
    "test(model_from_smiles,'Down') # diff2 params"
   ]
  },
  {
   "cell_type": "code",
   "execution_count": null,
   "id": "political-sheet",
   "metadata": {},
   "outputs": [],
   "source": [
    "test(model_from_smiles,'Down') # inprogress params"
   ]
  }
 ],
 "metadata": {
  "kernelspec": {
   "display_name": "Python 3",
   "language": "python",
   "name": "python3"
  },
  "language_info": {
   "codemirror_mode": {
    "name": "ipython",
    "version": 3
   },
   "file_extension": ".py",
   "mimetype": "text/x-python",
   "name": "python",
   "nbconvert_exporter": "python",
   "pygments_lexer": "ipython3",
   "version": "3.8.6"
  }
 },
 "nbformat": 4,
 "nbformat_minor": 5
}
