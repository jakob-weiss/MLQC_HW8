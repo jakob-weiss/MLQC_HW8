{
 "cells": [
  {
   "cell_type": "code",
   "execution_count": 31,
   "id": "welsh-cinema",
   "metadata": {},
   "outputs": [],
   "source": [
    "import pandas as pd\n",
    "from ase import Atoms\n",
    "from ase.io import read\n",
    "from ase.calculators.mopac import MOPAC\n",
    "import csv"
   ]
  },
  {
   "cell_type": "code",
   "execution_count": 22,
   "id": "political-popularity",
   "metadata": {},
   "outputs": [],
   "source": [
    "elements = pd.read_csv('https://gist.githubusercontent.com/GoodmanSciences/c2dd862cd38f21b0ad36b8f96b4bf1ee/raw/1d92663004489a5b6926e944c1b3d9ec5c40900e/Periodic%2520Table%2520of%2520Elements.csv')"
   ]
  },
  {
   "cell_type": "code",
   "execution_count": 24,
   "id": "lesbian-automation",
   "metadata": {},
   "outputs": [],
   "source": [
    "elements = {x:0 for x in elements['Symbol']}"
   ]
  },
  {
   "cell_type": "code",
   "execution_count": 29,
   "id": "caring-possibility",
   "metadata": {},
   "outputs": [],
   "source": [
    "for element in elements:\n",
    "    try:\n",
    "        a = Atoms(element, positions = [[0,0,0]])\n",
    "        a.calc = MOPAC(label = 'TMP', task = 'PM7 1SCF UHF')\n",
    "        elements[element] = a.get_potential_energy()\n",
    "    except:\n",
    "        elements[element] = 0"
   ]
  },
  {
   "cell_type": "code",
   "execution_count": 33,
   "id": "dirty-parking",
   "metadata": {},
   "outputs": [],
   "source": [
    "with open('indiv_energies.csv', 'w') as out:  \n",
    "    writer = csv.writer(out)\n",
    "    writer.writerow(['symbol', 'E'])\n",
    "    for key, value in elements.items():\n",
    "        writer.writerow([key, value])"
   ]
  }
 ],
 "metadata": {
  "kernelspec": {
   "display_name": "Python 3",
   "language": "python",
   "name": "python3"
  },
  "language_info": {
   "codemirror_mode": {
    "name": "ipython",
    "version": 3
   },
   "file_extension": ".py",
   "mimetype": "text/x-python",
   "name": "python",
   "nbconvert_exporter": "python",
   "pygments_lexer": "ipython3",
   "version": "3.8.6"
  }
 },
 "nbformat": 4,
 "nbformat_minor": 5
}
