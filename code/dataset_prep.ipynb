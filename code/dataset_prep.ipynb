{
 "cells": [
  {
   "cell_type": "code",
   "execution_count": 1,
   "id": "accomplished-attribute",
   "metadata": {},
   "outputs": [],
   "source": [
    "import torch\n",
    "import pandas as pd\n",
    "import numpy as np\n",
    "from tqdm.notebook import tqdm\n",
    "from rdkit import Chem\n",
    "#from dgllife.utils import smiles_to_bigraph\n",
    "#from dgllife.utils import mol_to_bigraph\n",
    "from rdkit.Chem import AllChem\n",
    "from ase import Atoms\n",
    "from ase.io import read\n",
    "from ase.calculators.mopac import MOPAC"
   ]
  },
  {
   "cell_type": "code",
   "execution_count": 3,
   "id": "unlimited-cambodia",
   "metadata": {},
   "outputs": [
    {
     "data": {
      "application/vnd.jupyter.widget-view+json": {
       "model_id": "e50840ded17b404688e9bfac5b27f16f",
       "version_major": 2,
       "version_minor": 0
      },
      "text/plain": [
       "  0%|          | 0/578 [00:00<?, ?it/s]"
      ]
     },
     "metadata": {},
     "output_type": "display_data"
    }
   ],
   "source": [
    "datasets = ['H']\n",
    "for dataset in datasets:\n",
    "    smiles = pd.read_csv('../../../Data/Solubility/dataset-' + dataset + '.csv')['SMILES']\n",
    "    pot_energy = []\n",
    "    for smile in tqdm(smiles):\n",
    "        \n",
    "        mol = Chem.MolFromSmiles(smile)\n",
    "        mol = Chem.AddHs(mol)\n",
    "        AllChem.EmbedMolecule(mol) \n",
    "        Chem.rdmolfiles.MolToXYZFile(mol,'tmp.xyz')\n",
    "        try:\n",
    "            mol = read('tmp.xyz')\n",
    "            mol.calc = MOPAC(label='TMP', task='UHF BONDS GRADS')\n",
    "            pot_energy.append(mol.get_potential_energy())\n",
    "        except:\n",
    "            pot_energy.append(None)\n",
    "        \n",
    "    out = pd.concat([pd.Series(smiles), pd.Series(pot_energy)], axis = 1)\n",
    "    out.columns = ['SMILES', 'E_0']\n",
    "    out.to_csv('dataset-%s.csv' % dataset, index = False)"
   ]
  },
  {
   "cell_type": "code",
   "execution_count": null,
   "id": "sticky-applicant",
   "metadata": {},
   "outputs": [],
   "source": []
  }
 ],
 "metadata": {
  "kernelspec": {
   "display_name": "Python 3",
   "language": "python",
   "name": "python3"
  },
  "language_info": {
   "codemirror_mode": {
    "name": "ipython",
    "version": 3
   },
   "file_extension": ".py",
   "mimetype": "text/x-python",
   "name": "python",
   "nbconvert_exporter": "python",
   "pygments_lexer": "ipython3",
   "version": "3.8.6"
  }
 },
 "nbformat": 4,
 "nbformat_minor": 5
}
